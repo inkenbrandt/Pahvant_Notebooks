{
 "cells": [
  {
   "cell_type": "code",
   "id": "initial_id",
   "metadata": {
    "collapsed": true,
    "ExecuteTime": {
     "end_time": "2024-05-13T16:46:58.014998Z",
     "start_time": "2024-05-13T16:46:56.249976Z"
    }
   },
   "source": [
    "import pandas as pd\n",
    "import numpy as np\n",
    "\n",
    "import os\n",
    "\n",
    "import pathlib\n",
    "\n",
    "import requests\n",
    "\n",
    "import scipy\n",
    "\n",
    "import statsmodels.api as sm\n",
    "import matplotlib.pyplot as plt\n",
    "\n",
    "import matplotlib as mpl\n",
    "\n",
    "%matplotlib inline\n",
    "\n",
    "from pylab import rcParams\n",
    "rcParams['figure.figsize'] = 12, 10\n",
    "rcParams['pdf.fonttype'] = 42\n",
    "inline_rc = dict(plt.rcParams)\n",
    "\n",
    "import platform\n",
    "import sys\n",
    "\n",
    "import geopandas as gpd\n"
   ],
   "outputs": [],
   "execution_count": 1
  },
  {
   "metadata": {
    "ExecuteTime": {
     "end_time": "2024-05-13T16:46:58.022153Z",
     "start_time": "2024-05-13T16:46:58.015511Z"
    }
   },
   "cell_type": "code",
   "source": [
    "print(\"Operating System \" + platform.system() + \" \" + platform.release())\n",
    "print(\"Python Version \" + str(sys.version))\n",
    "print(\"Pandas Version \" + str(pd.__version__))\n",
    "print(\"Numpy Version \" + str(np.__version__))\n",
    "print(\"Matplotlib Version \" + str(mpl.__version__))\n",
    "#print(\"Well Application Version \" + str(wa.__version__))\n",
    "print(\"Scipy Version \" +str(scipy.__version__))\n",
    "print (os.environ['CONDA_DEFAULT_ENV'])"
   ],
   "id": "8512afc8228d040a",
   "outputs": [
    {
     "name": "stdout",
     "output_type": "stream",
     "text": [
      "Operating System Windows 10\n",
      "Python Version 3.11.8 | packaged by conda-forge | (main, Feb 16 2024, 20:40:50) [MSC v.1937 64 bit (AMD64)]\n",
      "Pandas Version 2.2.2\n",
      "Numpy Version 1.26.4\n",
      "Matplotlib Version 3.8.4\n",
      "Scipy Version 1.13.0\n",
      "pygis311v4\n"
     ]
    }
   ],
   "execution_count": 2
  },
  {
   "metadata": {
    "ExecuteTime": {
     "end_time": "2024-05-13T16:49:31.628563Z",
     "start_time": "2024-05-13T16:49:31.617396Z"
    }
   },
   "cell_type": "code",
   "source": [
    "main_path = pathlib.Path(\"G:/Shared Drives/UGS_Groundwater/Projects/Pahvant_Valley/\")\n",
    "figure_dir = main_path / \"Writing\" / \"Figures\" / \"GEE_out\"\n",
    "raw_dir = main_path / \"Pahvant_Basins\" / 'Pahvant_Basins6'\n",
    "parquet_dir = raw_dir / \"parquet\"\n",
    "save_place = main_path / \"Pahvant_Basins\" / \"GEE_out\" / \"byhydrodiv\"\n",
    "gis_path = main_path / \"GIS_Pahvant\"\n",
    "#G:\\Shared drives\\UGS_Groundwater\\Projects\\Pahvant_Valley\\Pahvant_Basins\\GEE_out\n",
    "#save_place = \"GEE_Summary_Out\"\n"
   ],
   "id": "620aafcd64048214",
   "outputs": [],
   "execution_count": 3
  },
  {
   "metadata": {
    "ExecuteTime": {
     "end_time": "2024-05-13T16:50:07.252981Z",
     "start_time": "2024-05-13T16:49:35.389035Z"
    }
   },
   "cell_type": "code",
   "source": [
    "pmlmo = pd.read_parquet(save_place / \"pml_mo.parquet\")\n",
    "terra_mo = pd.read_parquet(save_place / \"terra_mo_hydrodiv.parquet\")\n",
    "terra_mo = terra_mo.reset_index().groupby(['hucname','date']).mean()\n",
    "daymetmo = pd.read_parquet(save_place / \"daymet_mo_hydrodiv.parquet\")\n",
    "oet_sorted = pd.read_parquet(save_place / \"openet_hydrodiv.parquet\")\n",
    "gpm_sorted = pd.read_parquet(save_place / \"gpm_monthly_hydrodiv.parquet\")\n",
    "prism_abb = pd.read_parquet(save_place / \"prism_mo_hydrodiv.parquet\")\n",
    "smap_abb = pd.read_parquet(save_place / \"smap_mo_hydrodiv.parquet\")\n",
    "modis_abb = pd.read_parquet(save_place / \"modis_mo.parquet\")\n",
    "modis_abb.index = modis_abb.index.rename('hucname',level=0)\n",
    "\n",
    "swbwy = pd.read_parquet(save_place / \"pahvant_basin_summary_monthly.parquet\")\n",
    "swbwy.index = swbwy.index.rename(['hucname', 'date'])\n",
    "for col in swbwy.columns:\n",
    "    swbwy = swbwy.rename(columns={col: f\"swb_{col}\"})\n",
    "\n",
    "swbmo = pd.read_parquet(save_place / \"pahvant_basin_summary_monthly_data.parquet\")\n",
    "swbmo.index = swbmo.index.rename(['hucname', 'date'])\n",
    "for col in swbmo.columns:\n",
    "    swbmo = swbmo.rename(columns={col: f\"swb_{col}\"})\n",
    "\n",
    "priswy = pd.read_parquet(save_place / \"prism_wy.parquet\")\n",
    "\n",
    "ssebp_abb = pd.read_csv(save_place / 'ssebop_mo.csv',  parse_dates=True,\n",
    "                        index_col=['hucname','date']).sort_index()\n",
    "\n",
    "compiled = pd.concat([pmlmo, modis_abb, swbmo, terra_mo, daymetmo, oet_sorted['openet_aet_acft'], gpm_sorted['gpm_ppt_acft'], prism_abb,\n",
    "                      smap_abb,ssebp_abb['ssebop_aet']],sort=True,axis=1)\n",
    "\n",
    "for col in compiled.columns:\n",
    "    if 'acft' in col:\n",
    "        new_col = col[:-5]\n",
    "    else:\n",
    "        new_col = col\n",
    "\n",
    "    if col == 'SubsurfaceSM':\n",
    "        new_col = 'smap_soil'\n",
    "    #print(new_col)\n",
    "    compiled = compiled.rename(columns={col:new_col})\n",
    "    \n"
   ],
   "id": "5f40c71f7667b258",
   "outputs": [
    {
     "name": "stderr",
     "output_type": "stream",
     "text": [
      "C:\\Users\\paulinkenbrandt\\AppData\\Local\\Temp\\1\\ipykernel_23372\\410273289.py:24: UserWarning: Could not infer format, so each element will be parsed individually, falling back to `dateutil`. To ensure parsing is consistent and as-expected, please specify a format.\n",
      "  ssebp_abb = pd.read_csv(save_place / 'ssebop_mo.csv',  parse_dates=True,\n"
     ]
    }
   ],
   "execution_count": 4
  },
  {
   "metadata": {
    "ExecuteTime": {
     "end_time": "2024-05-13T16:50:07.777245Z",
     "start_time": "2024-05-13T16:50:07.254015Z"
    }
   },
   "cell_type": "code",
   "source": [
    "hydrodivs = gpd.read_file(gis_path / 'Valley_Hydrogeologic_Divisions.shp')\n",
    "combined = pd.merge(hydrodivs, compiled.reset_index(), left_on='ID', right_on='hucname').set_index(['ID','date'])"
   ],
   "id": "59574617befab0f7",
   "outputs": [],
   "execution_count": 5
  },
  {
   "metadata": {
    "ExecuteTime": {
     "end_time": "2024-05-13T16:50:07.784694Z",
     "start_time": "2024-05-13T16:50:07.777807Z"
    }
   },
   "cell_type": "code",
   "source": "combined['Bdrk_v_Val'].unique()",
   "id": "a57b678e40699c58",
   "outputs": [
    {
     "data": {
      "text/plain": [
       "array(['Valley', 'Bdrk', 'Basalt'], dtype=object)"
      ]
     },
     "execution_count": 6,
     "metadata": {},
     "output_type": "execute_result"
    }
   ],
   "execution_count": 6
  },
  {
   "metadata": {
    "ExecuteTime": {
     "end_time": "2024-05-13T16:50:07.802908Z",
     "start_time": "2024-05-13T16:50:07.785700Z"
    }
   },
   "cell_type": "code",
   "source": [
    "bv_area = combined[combined['Bdrk_v_Val'].isin(['Basalt','Valley'])].groupby(level=0).mean(numeric_only=True)['Shape_Area'].sum()*0.000247105\n",
    "print(f\"Basalt and Valley Fill covers {bv_area:0.0f} acres\")"
   ],
   "id": "36d72fc630e9aacd",
   "outputs": [
    {
     "name": "stdout",
     "output_type": "stream",
     "text": [
      "Basalt and Valley Fill covers 699157 acres\n"
     ]
    }
   ],
   "execution_count": 7
  },
  {
   "metadata": {
    "ExecuteTime": {
     "end_time": "2024-05-13T16:50:07.810202Z",
     "start_time": "2024-05-13T16:50:07.802908Z"
    }
   },
   "cell_type": "code",
   "source": [
    "v_area = np.sum(hydrodivs[(hydrodivs['Bdrk_v_Val']=='Valley')&(~hydrodivs['WRarea'].isin(['West Desert','Oasis','Clear Lake']))].geometry.area)*0.000247105\n",
    "print(f\"Valley Fill covers {v_area:0.0f} acres\")"
   ],
   "id": "33833ccd0fba94e",
   "outputs": [
    {
     "name": "stdout",
     "output_type": "stream",
     "text": [
      "Valley Fill covers 273581 acres\n"
     ]
    }
   ],
   "execution_count": 8
  },
  {
   "metadata": {},
   "cell_type": "markdown",
   "source": "## Corn Creek Comparison",
   "id": "cd25166d5966c3d6"
  },
  {
   "metadata": {},
   "cell_type": "code",
   "outputs": [],
   "execution_count": null,
   "source": [
    "url = \"https://waterdata.usgs.gov/nwis/dv?cb_00060=on&format=rdb&site_no=10233500&legacy=&referred_module=sw&period=&begin_date=1965-08-01&end_date=1975-09-29\"\n",
    "corn = pd.read_table(url,comment=\"#\")\n",
    "corn = corn.drop([0],axis=0)\n",
    "corn['datetime'] = pd.to_datetime(corn['datetime'])\n",
    "corn = corn.rename(columns = {'143840_00060_00003':'cfs'})\n",
    "corn['cfs'] = pd.to_numeric(corn['cfs'])\n",
    "corn['cfd'] = 86400*corn['cfs']\n",
    "corn = corn.drop(['agency_cd','143840_00060_00003_cd'],axis=1)\n",
    "corn = corn.set_index('datetime')\n",
    "\n",
    "corn = corn.interpolate()\n",
    "corn['water year'] = corn.index.shift(-9, freq='M').year+1\n",
    "\n",
    "cornwy = corn.loc['1965-10-01':].groupby('water year').sum()\n",
    "cornyr = corn.loc['1966-01-01':].groupby(corn.loc['1966-01-01':].index.year).sum()\n",
    "cornwy['ac-ft'] = cornwy['cfd']*2.29569e-5\n",
    "cornyr['ac-ft'] = cornyr['cfd']*2.29569e-5\n",
    "print(f\"Avg {cornwy['ac-ft'].mean():0.0f} acft per water year\")\n",
    "print(f\"Avg {cornyr['ac-ft'].mean():0.0f} acft per year\")\n",
    "\n",
    "#43\n",
    "\n",
    "corn_w_ppt_wy = pd.concat([priswy.loc[43],cornwy.drop(['site_no','cfs','cfd'],axis=1)],axis=1).dropna()\n",
    "\n",
    "\n",
    "\n",
    "x = corn_w_ppt_wy['prism_ppt_volume_af'].values\n",
    "y = corn_w_ppt_wy['ac-ft'].values\n",
    "\n",
    "X = sm.add_constant(x)\n",
    "model = sm.OLS(y, X)\n",
    "results = model.fit()\n",
    "\n",
    "results.summary()\n"
   ],
   "id": "dfb96753bd1bad30"
  },
  {
   "metadata": {},
   "cell_type": "code",
   "outputs": [],
   "execution_count": null,
   "source": [
    "combined['water year'] = combined.index.get_level_values(1).shift(-9, freq='M').year+1\n",
    "combined.loc[43].groupby('water year').sum(numeric_only=True).loc[:,'terra_ro'].plot() #corn\n",
    "swbwy.loc[43,'swb_runoff'].plot()\n",
    "print(f\"SWB Avg {swbwy.loc[43,'swb_runoff'].mean():0.0f} acft/wy\")\n",
    "print(f\"TerraClimate Avg {combined.loc[43].groupby('water year').sum(numeric_only=True).loc[2002:,'terra_ro'].mean():0.0f} acft/wy\")\n",
    "\n",
    "print(f\"Corn Avg {cornwy['ac-ft'].mean():0.0f} acft/wy\")\n",
    "\n",
    "cornwy['ac-ft'].plot()\n",
    "plt.legend()\n",
    "plt.grid()\n",
    "ax2 = plt.twinx()\n",
    "priswy.loc[43,\"prism_ppt_volume_af\"].plot(ax=ax2,color='red')\n",
    "#plt.grid()"
   ],
   "id": "c7100373ed2f6b6a"
  },
  {
   "metadata": {},
   "cell_type": "markdown",
   "source": "## Chalk Creek Comparison",
   "id": "29894280e45b7340"
  },
  {
   "metadata": {},
   "cell_type": "code",
   "outputs": [],
   "execution_count": null,
   "source": [
    "url = \"https://waterdata.usgs.gov/nwis/dv?cb_00060=on&format=rdb&site_no=10232500&legacy=&referred_module=sw&period=&begin_date=1944-03-01&end_date=1971-09-29\"\n",
    "\n",
    "chalk = pd.read_table(url,comment=\"#\")\n",
    "chalk = chalk.drop([0],axis=0)\n",
    "chalk['datetime'] = pd.to_datetime(chalk['datetime'])\n",
    "chalk = chalk.rename(columns = {'143838_00060_00003':'cfs'})\n",
    "chalk['cfs'] = pd.to_numeric(chalk['cfs'])\n",
    "chalk['cfd'] = 86400*chalk['cfs']\n",
    "chalk = chalk.drop(['agency_cd','143838_00060_00003_cd'],axis=1)\n",
    "chalk = chalk.set_index('datetime')\n",
    "\n",
    "chalk = chalk.resample('1D').asfreq().interpolate(method='time')\n",
    "chalk['water year'] = chalk.index.shift(-9, freq='M').year+1\n",
    "chalkwy = chalk.groupby('water year').sum()\n",
    "chalkwy['ac-ft'] = chalkwy['cfd']*2.29569e-5\n",
    "chalkwy = chalkwy.loc[1945:]\n",
    "#27\n",
    "\n",
    "chalk_w_ppt_wy = pd.concat([priswy.loc[27],chalkwy.drop(['site_no','cfs','cfd'],axis=1)],axis=1).dropna()\n",
    "\n",
    "x = chalk_w_ppt_wy['prism_ppt_volume_af'].values\n",
    "y = chalk_w_ppt_wy['ac-ft'].values\n",
    "\n",
    "X = sm.add_constant(x)\n",
    "model = sm.OLS(y, X)\n",
    "results = model.fit()\n",
    "\n",
    "results.summary()"
   ],
   "id": "5589afe743eb6918"
  },
  {
   "metadata": {},
   "cell_type": "code",
   "outputs": [],
   "execution_count": null,
   "source": "chalk.plot()",
   "id": "4d57bd60243e7dcc"
  },
  {
   "metadata": {},
   "cell_type": "code",
   "outputs": [],
   "execution_count": null,
   "source": [
    "combined['water year'] = combined.index.get_level_values(1).shift(-9, freq='M').year+1\n",
    "combined.loc[27].groupby('water year').sum(numeric_only=True).loc[:,'terra_ro'].plot(label='Terra ro') #corn\n",
    "swbwy.loc[27,'swb_runoff'].plot(label='swb ro')\n",
    "print(f\"SWB Avg {swbwy.loc[27,'swb_runoff'].mean():0.0f} acft/wy\")\n",
    "print(f\"TerraClimate Avg {combined.loc[27].groupby('water year').sum(numeric_only=True).loc[2002:,'terra_ro'].mean():0.0f} acft/wy\")\n",
    "chalkwy['ac-ft'].plot(label='measured')\n",
    "print(f\"Chalk Avg {chalkwy['ac-ft'].mean():0.0f} acft/wy\")\n",
    "plt.legend()\n",
    "ax2 = plt.twinx()\n",
    "priswy.loc[27,\"prism_ppt_volume_af\"].plot(ax=ax2,color='red')\n",
    "plt.grid()\n",
    "plt.ylabel('PRISM Precip for Chalk Watershed (ac-ft/yr)')\n"
   ],
   "id": "673a61746a148ea8"
  },
  {
   "metadata": {},
   "cell_type": "code",
   "outputs": [],
   "execution_count": null,
   "source": [
    "url = \"https://nwis.waterservices.usgs.gov/nwis/iv/?sites=10232000&parameterCd=00065&startDT=2022-10-01T00:00:00-07:00&endDT=2023-10-01T00:00:00-07:00&siteStatus=all&format=rdb\"\n",
    "schalk = pd.read_table(url,comment=\"#\")\n",
    "schalk = schalk.drop([0],axis=0)\n",
    "schalk['datetime'] = pd.to_datetime(schalk['datetime'])\n",
    "schalk = schalk.rename(columns = {'316832_00065':'stage'})\n",
    "schalk['stage'] = pd.to_numeric(schalk['stage'])\n",
    "schalk['depth'] = schalk['stage'] - 2.0\n",
    "schalk['cfs'] = (1.486/0.012)*((12*schalk['depth'])**(2/3))*(0.01023**(0.5))\n",
    "schalk['cfd'] = 86400*schalk['cfs']\n",
    "schalk = schalk.drop(['agency_cd','316832_00065_cd','tz_cd'],axis=1)\n",
    "#schalk = schalk.set_index('datetime')\n",
    "\n",
    "schalk = schalk.drop_duplicates(subset='datetime').set_index('datetime')\n",
    "\n",
    "schalk_min = schalk.drop(['site_no'],axis=1).resample('1min').asfreq().interpolate(method='time')\n",
    "schalk_min['cfm'] = schalk_min['cfs']*60.0\n",
    "schalk_min['acft'] = schalk_min['cfm']*2.29569e-5\n",
    "schalk_min['water year'] = schalk_min.index.shift(-9, freq='M').year+1\n",
    "schalkwy = schalk_min.groupby('water year').sum()\n",
    "\n",
    "schalk_hr = schalk.resample('1H').mean(numeric_only=True)\n",
    "schalk_day = schalk.resample('1D').median(numeric_only=True)\n",
    "\n",
    "schalk_day"
   ],
   "id": "7f8aa80c8d5194d3"
  },
  {
   "metadata": {},
   "cell_type": "markdown",
   "source": "## SNOTEL Comparison",
   "id": "5e326f2332fe98e1"
  },
  {
   "metadata": {},
   "cell_type": "code",
   "outputs": [],
   "execution_count": null,
   "source": "",
   "id": "ca97b290ea14b4ec"
  },
  {
   "metadata": {},
   "cell_type": "code",
   "outputs": [],
   "execution_count": null,
   "source": [
    "#,'SubsurfaceSM', 'SurfaceSM','daymet_swe'\n",
    "comb_pine = combined.loc[52,['prism_ppt','daymet_ppt','terra_ppt','gpm_ppt']]\n",
    "comb_pine['wateryear'] = comb_pine.index.shift(-9, freq='M').year+1\n",
    "comb_pine_wy = comb_pine.groupby('wateryear').sum()\n",
    "comb_pine_wy.plot()"
   ],
   "id": "3cecfa8dac14c120"
  },
  {
   "metadata": {},
   "cell_type": "code",
   "outputs": [],
   "execution_count": null,
   "source": [
    "snotel_url = \"https://wcc.sc.egov.usda.gov/reportGenerator/view_csv/customSingleStationReport/daily/694:UT:SNTL%7Cid=%22%22%7Cname/POR_BEGIN,POR_END/WTEQ::value,PREC::value,TMAX::value,TMIN::value,TAVG::value,PRCP::value\"\n",
    "snotel = pd.read_csv(snotel_url,comment=\"#\",na_values=-99.0,parse_dates=True,index_col='Date')\n",
    "snotel['wateryear'] = snotel.index.shift(-9, freq='M').year+1\n",
    "snotel = snotel[snotel['wateryear']<2024]\n",
    "snotel_wy = snotel.groupby('wateryear').max()\n",
    "snotel_wy['Precipitation Accumulation (in) Start of Day Values'].plot()\n",
    "\n",
    "pine_area = hydrodivs[(hydrodivs['Watershed'] == 'Pine Creek')&(hydrodivs['Bdrk_v_Val'] == 'Bdrk')]['area_acres'].values\n",
    "snotel_vol = snotel_wy['Precipitation Accumulation (in) Start of Day Values']/12*pine_area\n",
    "#snotel_vol.plot()\n",
    "plt.grid()\n",
    "#'Precipitation Accumulation (in) Start of Day Values']"
   ],
   "id": "a5ad46780de4f79e"
  },
  {
   "metadata": {},
   "cell_type": "markdown",
   "source": "## Combine by large regions",
   "id": "8a206c3eabcdad26"
  },
  {
   "metadata": {},
   "cell_type": "markdown",
   "source": "",
   "id": "20f21ada8113a283"
  },
  {
   "metadata": {},
   "cell_type": "code",
   "outputs": [],
   "execution_count": null,
   "source": [
    "area_groups = {'east mountains':[67,11,60,21,22,55,27,52,51,43,77,47],\n",
    "               'east valley':[7,14,57,26,33,3],\n",
    "               'basalt':[118,23,120],\n",
    "               'west mountains':[116],\n",
    "               'west flats':[20,4,2],\n",
    "               'NW Spring Flats':[5,13,10,12]}\n",
    "int_areas = {}\n",
    "\n",
    "for k, v in area_groups.items():\n",
    "    for item in v:\n",
    "        int_areas[item] = k\n",
    "\n",
    "\n",
    "swbwy['area group'] = swbwy.index.get_level_values(0).map(int_areas)\n",
    "\n",
    "swb_wy = swbwy.groupby(['area group','date']).sum()\n",
    "\n"
   ],
   "id": "140215b9f7d69c7f"
  },
  {
   "metadata": {},
   "cell_type": "code",
   "outputs": [],
   "execution_count": null,
   "source": [
    "combined['area group'] = combined.index.get_level_values(0).map(int_areas)\n",
    "comb_areas = combined.reset_index().groupby(['area group','date']).sum(numeric_only=True)\n",
    "\n",
    "comb_areas['water year'] = comb_areas.index.get_level_values(1).shift(-9, freq='M').year+1\n",
    "comb_areas['year'] = comb_areas.index.get_level_values(1).year\n",
    "comb_areas_yr = comb_areas.groupby(['area group','year']).sum()\n",
    "comb_areas_yr = comb_areas_yr[(comb_areas_yr.index.get_level_values(1) >= 2000)&(comb_areas_yr.index.get_level_values(1) <= 2022)]\n",
    "comb_areas_wy = comb_areas.groupby(['area group','water year']).sum()\n",
    "comb_areas_wy = comb_areas_wy[(comb_areas_wy.index.get_level_values(1) >= 2000)&(comb_areas_wy.index.get_level_values(1) <= 2022)].replace(0,np.nan)\n",
    "\n",
    "all_yr = comb_areas_yr.groupby(level=1).sum()\n",
    "all_wy = comb_areas_wy.groupby(level=1).sum()"
   ],
   "id": "bdf4a84410b4ca83"
  },
  {
   "metadata": {},
   "cell_type": "code",
   "outputs": [],
   "execution_count": null,
   "source": "comb_areas.to_parquet(\"C:/Users/paulinkenbrandt/Documents/ArcGIS/Projects/Pahvant/combined_hydro_areas_daily.parquet\")",
   "id": "5311d3a0ef532e0a"
  },
  {
   "metadata": {},
   "cell_type": "code",
   "outputs": [],
   "execution_count": null,
   "source": "comb_areas.loc['west mountains'].loc['2020-09-01':]",
   "id": "6157671c8abb1c51"
  },
  {
   "metadata": {},
   "cell_type": "code",
   "outputs": [],
   "execution_count": null,
   "source": [
    "hydrodivs\n",
    "hydrodivs['area_acres'] = hydrodivs['Shape_Area']*0.000247105\n",
    "hydrodivs['region'] = hydrodivs['ID'].map(int_areas)\n",
    "hydrodivs_regions = hydrodivs.groupby(['region']).sum(numeric_only=True)\n",
    "hydrodivs_regions"
   ],
   "id": "f68e204de6d42670"
  },
  {
   "metadata": {},
   "cell_type": "code",
   "outputs": [],
   "execution_count": null,
   "source": [
    "mtn_ppt = comb_areas_wy.loc['east mountains',['prism_ppt','daymet_ppt','terra_ppt','gpm_ppt']].round(-2)\n",
    "mtn_ppt.to_clipboard()\n",
    "mtn_et = comb_areas_wy.loc['east mountains',['openet_aet','terra_aet','pml_aet','aet_modis']].round(-2)\n",
    "mtn_et.to_clipboard()"
   ],
   "id": "4baa89bb3b959577"
  },
  {
   "metadata": {},
   "cell_type": "code",
   "outputs": [],
   "execution_count": null,
   "source": [
    "fig, ax = plt.subplots(1,1,sharex=True)\n",
    "(comb_areas_wy.loc['east mountains',['prism_ppt','daymet_ppt','terra_ppt','gpm_ppt']]).plot(ax=ax)\n",
    "(comb_areas_wy.loc['east mountains',['openet_aet','terra_aet','pml_aet','aet_modis','swb_actual_et']]).plot(ax=ax)\n",
    "\n",
    "plt.ylabel('Precip. in East Mountains (ac-ft/wy)')"
   ],
   "id": "6bb4e6ccc6a363"
  },
  {
   "metadata": {},
   "cell_type": "code",
   "outputs": [],
   "execution_count": null,
   "source": [
    "comb_areas_wy['terra_effective_precip'] = (comb_areas_wy['terra_ppt'] - comb_areas_wy['terra_aet'])\n",
    "comb_areas_wy['terra_cum_effective_precip'] = comb_areas_wy['terra_effective_precip'].cumsum()\n",
    "fig, ax = plt.subplots(6,1, sharex=True)\n",
    "\n",
    "i = 0\n",
    "for group in comb_areas_wy.index.get_level_values(0).unique():\n",
    "    print(group)\n",
    "    if group == 'nan' or pd.isna(group):\n",
    "        pass\n",
    "    elif group:\n",
    "        comb_areas_wy.loc[group,'terra_effective_precip'].plot(ax=ax[i])\n",
    "        ax[i].set_title(group)\n",
    "        ax[i].hlines(0,2002,2022,colors=\"gray\",linestyles=\":\")\n",
    "        i+=1"
   ],
   "id": "658fb1aeb03bdca6"
  },
  {
   "metadata": {},
   "cell_type": "code",
   "outputs": [],
   "execution_count": null,
   "source": [
    "comb_areas_wy['terra_soil_change'] = (comb_areas_wy['terra_soil']).diff().cumsum()\n",
    "\n",
    "comb_areas_wy.loc['basalt',['terra_ro', 'terra_soil_change']].plot()\n",
    "comb_areas_wy.loc['basalt','SurfaceSM'].diff().plot()\n",
    "plt.grid()\n",
    "plt.ylabel(\"Terra Estimated 'Runoff' for Basalt (ac-ft/wy\")"
   ],
   "id": "718520455689b334"
  },
  {
   "metadata": {},
   "cell_type": "code",
   "outputs": [],
   "execution_count": null,
   "source": [
    "(all_wy[['terra_ppt', 'daymet_ppt', 'gpm_ppt', 'prism_ppt']]/hydrodivs_regions['area_acres'].sum()*12).plot()\n",
    "plt.grid()\n",
    "plt.ylabel(\"Precipitation (in)\")"
   ],
   "id": "19df390aba647a27"
  },
  {
   "metadata": {},
   "cell_type": "code",
   "outputs": [],
   "execution_count": null,
   "source": [
    "url=\"https://waterdata.usgs.gov/nwis/dv?cb_72019=on&format=rdb&site_no=385844112245801&legacy=&referred_module=sw&period=&begin_date=2001-02-06&end_date=2023-02-06\"\n",
    "resp = requests.get(url)\n",
    "linefile = resp.iter_lines()\n",
    "numlist = []\n",
    "num = 0\n",
    "for line in linefile:\n",
    "    if line.startswith(b\"#\"):\n",
    "        numlist.append(num)\n",
    "    num += 1\n",
    "numlist.append(numlist[-1] + 2)\n",
    "\n",
    "shan_well = pd.read_table(resp.url, sep=\"\\t\", skiprows=numlist)\n",
    "\n",
    "shan_well['datetime'] = pd.to_datetime(shan_well['datetime'])\n",
    "shandata = shan_well.set_index('datetime')\n",
    "shandata['wls'] = pd.to_numeric(shandata['239154_72019_00002'])\n",
    "\n",
    "wl_vol = (386131.3810510477*-1*shandata['wls'].diff()*0.011).to_frame()\n",
    "shan_wl_vol = wl_vol.resample('1MS').sum().cumsum()"
   ],
   "id": "67bb85013d004c89"
  },
  {
   "metadata": {},
   "cell_type": "code",
   "outputs": [],
   "execution_count": null,
   "source": [
    "strtdt = oet_sorted.first_valid_index()[1]\n",
    "enddt = oet_sorted.last_valid_index()[1]\n",
    "\n",
    "comb_area = combined[(~combined['WRarea'].isin(['West Desert','Oasis','Clear Lake']))]\n",
    "comb = comb_area[['Bdrk_v_Val','openet_aet','terra_swe','terra_ppt','terra_aet','terra_soil','terra_ro']].dropna()\n",
    "comb_y = comb[(comb.index.get_level_values(1)>=strtdt)].copy(deep=True)\n",
    "comb_y['dGW'] = comb_y['terra_ppt'] - (comb_y['openet_aet']) - comb_y['terra_soil'].diff() - comb_y['terra_swe'].diff()"
   ],
   "id": "f0749c0cc03bddfd"
  },
  {
   "metadata": {},
   "cell_type": "code",
   "outputs": [],
   "execution_count": null,
   "source": [
    "area_groups = {'east mountains':[67,11,60,21,22,55,27,52,51,43,77,47],\n",
    "               'east valley':[7,14,57,26,33,3],\n",
    "               'basalt':[118,23,120],\n",
    "               'west mountains':[116],\n",
    "               'west flats':[20,4,2],\n",
    "               'NW Spring Flats':[5,13,10,12]}\n",
    "               "
   ],
   "id": "bd4a85bfed9dfcbd"
  },
  {
   "metadata": {},
   "cell_type": "code",
   "outputs": [],
   "execution_count": null,
   "source": [
    "strtdt = oet_sorted.first_valid_index()[1]\n",
    "enddt = oet_sorted.last_valid_index()[1]\n",
    "\n",
    "comb_area = combined[(~combined['WRarea'].isin(['West Desert','Oasis','Clear Lake']))]\n",
    "comb = comb_area[['Bdrk_v_Val','openet_aet','terra_swe','terra_ppt','terra_aet','terra_soil','terra_ro']].dropna()\n",
    "comb_y = comb[(comb.index.get_level_values(1)>=strtdt)].copy(deep=True)\n",
    "comb_y['dGW'] = comb_y['terra_ppt'] - (comb_y['openet_aet']) - comb_y['terra_soil'].diff() - comb_y['terra_swe'].diff()\n",
    "\n",
    "\n",
    "focusy = comb_y[comb_y['Bdrk_v_Val'].isin(['Basalt','Valley'])]\n",
    "focusbdy = comb_y[comb_y['Bdrk_v_Val'].isin(['Bdrk'])]\n",
    "focusbd_dty= focusbdy.groupby('date').sum(numeric_only=True)[['terra_ro','terra_swe']]\n",
    "focus_dty = focusy.groupby('date').sum(numeric_only=True)['dGW']\n",
    "spr_flow = pd.read_csv(main_path / \"Flow Monitoring/clear_lake_spring_flow_mo.csv\",index_col='Date',parse_dates=True)\n",
    "dfspy = pd.concat([spr_flow,focus_dty,focusbd_dty],axis=1).dropna()\n",
    "dfspy['dGW_wSp'] = dfspy['dGW'] - dfspy['spring_flow_acft'] + dfspy['terra_ro']*1.20 #+ dfsp['terra_swe'].diff()\n",
    "\n",
    "\n",
    "dfspcsy = dfspy[['dGW_wSp']].cumsum()\n",
    "\n",
    "plt.plot(dfspcsy.index, dfspcsy['dGW_wSp'], label=\"Change in GW Storage (acft)\")\n",
    "#plt.plot(dfspcs.rolling(8,center=True).mean().index, dfspcs['dGW_wSp'].rolling(8,center=True).mean(), label=\"Rolling Avg. Change in GW Storage (acft)\")\n",
    "#plt.plot(shan_wl_vol.index, shan_wl_vol['wls'],color='green')\n",
    "plt.ylabel(\"Water Volume (acft)\",color='blue')\n",
    "plt.grid()\n",
    "plt.twinx()\n",
    "plt.plot(shandata.index, shandata['wls']*-1,color='red')\n",
    "plt.yticks(np.arange(-120,80,40))\n",
    "plt.ylabel(\"Groundwater Level (ft)\",color='red')"
   ],
   "id": "b3fc23cec9fd18e7"
  },
  {
   "metadata": {},
   "cell_type": "code",
   "outputs": [],
   "execution_count": null,
   "source": [
    "comb_area = combined[(~combined['WRarea'].isin(['West Desert','Oasis','Clear Lake']))]\n",
    "comb_zone = comb_area[['prism_ppt','Bdrk_v_Val','ssebop_aet','pml_aet','terra_swe','terra_ppt','terra_aet','terra_soil','terra_ro']].dropna()\n",
    "comb_z = comb_zone[(comb_zone.index.get_level_values(1)>pd.to_datetime('2000-09-01'))&(comb_zone.index.get_level_values(1)<pd.to_datetime('2020-10-01'))].copy(deep=True)\n",
    "comb_z['dGW'] = comb_z['prism_ppt'] - (comb_z['pml_aet']*0.82 + 721) - comb_z['terra_soil'].diff() - comb_z['terra_swe'].diff()\n",
    "#(comb_z['pml_aet']*0.82 + 721)+ comb_z['terra_swe'].diff()\n",
    "\n",
    "\n",
    "focus = comb_z[comb_z['Bdrk_v_Val'].isin(['Basalt','Valley'])]\n",
    "focusbd = comb_z[comb_z['Bdrk_v_Val'].isin(['Bdrk'])]\n",
    "focusbd_dt= focusbd.groupby('date').sum(numeric_only=True)[['terra_ro','terra_swe']]\n",
    "focus_dt = focus.groupby('date').sum(numeric_only=True)['dGW']\n",
    "spr_flow = pd.read_csv(main_path / \"Flow Monitoring/clear_lake_spring_flow_mo.csv\",index_col='Date',parse_dates=True)\n",
    "dfsp = pd.concat([spr_flow,focus_dt,focusbd_dt],axis=1).dropna()\n",
    "dfsp['dGW_wSp'] = dfsp['dGW'] - dfsp['spring_flow_acft'] + dfsp['terra_ro']*1.20 #+ dfsp['terra_swe'].diff()\n",
    "\n",
    "\n",
    "dfspcs = dfsp[['dGW_wSp']].cumsum()\n",
    "\n",
    "plt.plot(dfspcs.index, dfspcs['dGW_wSp'], label=\"Change in GW Storage (acft)\")\n",
    "#plt.plot(dfspcs.rolling(8,center=True).mean().index, dfspcs['dGW_wSp'].rolling(8,center=True).mean(), label=\"Rolling Avg. Change in GW Storage (acft)\")\n",
    "#plt.plot(shan_wl_vol.index, shan_wl_vol['wls'],color='green')\n",
    "plt.ylabel(\"Water Volume (acft)\",color='blue')\n",
    "plt.grid()\n",
    "plt.twinx()\n",
    "plt.plot(shandata.index, shandata['wls']*-1,color='red')\n",
    "plt.yticks(np.arange(-120,80,40))\n",
    "plt.ylabel(\"Groundwater Level (ft)\",color='red')\n",
    "#\n"
   ],
   "id": "c017997cd7b395ab"
  }
 ],
 "metadata": {
  "kernelspec": {
   "display_name": "Python 3",
   "language": "python",
   "name": "python3"
  },
  "language_info": {
   "codemirror_mode": {
    "name": "ipython",
    "version": 2
   },
   "file_extension": ".py",
   "mimetype": "text/x-python",
   "name": "python",
   "nbconvert_exporter": "python",
   "pygments_lexer": "ipython2",
   "version": "2.7.6"
  }
 },
 "nbformat": 4,
 "nbformat_minor": 5
}
